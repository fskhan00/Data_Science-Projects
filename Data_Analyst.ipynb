{
  "nbformat": 4,
  "nbformat_minor": 0,
  "metadata": {
    "colab": {
      "name": "Data-Analyst",
      "provenance": [],
      "authorship_tag": "ABX9TyM7i1P+SAz/mR6TOxC56JW7",
      "include_colab_link": true
    },
    "kernelspec": {
      "name": "python3",
      "display_name": "Python 3"
    }
  },
  "cells": [
    {
      "cell_type": "markdown",
      "metadata": {
        "id": "view-in-github",
        "colab_type": "text"
      },
      "source": [
        "<a href=\"https://colab.research.google.com/github/fskhan00/Data_Science-Projects/blob/master/Data_Analyst.ipynb\" target=\"_parent\"><img src=\"https://colab.research.google.com/assets/colab-badge.svg\" alt=\"Open In Colab\"/></a>"
      ]
    },
    {
      "cell_type": "markdown",
      "metadata": {
        "id": "Zsayp0KNwZqP",
        "colab_type": "text"
      },
      "source": [
        "**Data Cleaning**"
      ]
    },
    {
      "cell_type": "code",
      "metadata": {
        "id": "RVg7QHX3IG01",
        "colab_type": "code",
        "colab": {}
      },
      "source": [
        "import pandas as pd\n",
        "import numpy as np\n",
        "import matplotlib.pyplot as plt\n",
        "import seaborn as sns\n",
        "%matplotlib inline"
      ],
      "execution_count": 5,
      "outputs": []
    },
    {
      "cell_type": "code",
      "metadata": {
        "id": "1xe1m83lKz17",
        "colab_type": "code",
        "colab": {
          "base_uri": "https://localhost:8080/",
          "height": 319
        },
        "outputId": "3ceab5e0-ebf7-4884-cedb-406b336518d8"
      },
      "source": [
        "df = pd.read_csv('/content/DataAnalyst.csv')\n",
        "df.isna().sum()\n"
      ],
      "execution_count": 6,
      "outputs": [
        {
          "output_type": "execute_result",
          "data": {
            "text/plain": [
              "Unnamed: 0           0\n",
              "Job Title            0\n",
              "Salary Estimate      0\n",
              "Job Description      0\n",
              "Rating               0\n",
              "Company Name         1\n",
              "Location             0\n",
              "Headquarters         0\n",
              "Size                 0\n",
              "Founded              0\n",
              "Type of ownership    0\n",
              "Industry             0\n",
              "Sector               0\n",
              "Revenue              0\n",
              "Competitors          0\n",
              "Easy Apply           0\n",
              "dtype: int64"
            ]
          },
          "metadata": {
            "tags": []
          },
          "execution_count": 6
        }
      ]
    },
    {
      "cell_type": "code",
      "metadata": {
        "id": "oPfvuPizLZ-c",
        "colab_type": "code",
        "colab": {
          "base_uri": "https://localhost:8080/",
          "height": 299
        },
        "outputId": "4c75e815-64d4-4fc7-9a32-8b563f17e55a"
      },
      "source": [
        "df.head(2)"
      ],
      "execution_count": 7,
      "outputs": [
        {
          "output_type": "execute_result",
          "data": {
            "text/html": [
              "<div>\n",
              "<style scoped>\n",
              "    .dataframe tbody tr th:only-of-type {\n",
              "        vertical-align: middle;\n",
              "    }\n",
              "\n",
              "    .dataframe tbody tr th {\n",
              "        vertical-align: top;\n",
              "    }\n",
              "\n",
              "    .dataframe thead th {\n",
              "        text-align: right;\n",
              "    }\n",
              "</style>\n",
              "<table border=\"1\" class=\"dataframe\">\n",
              "  <thead>\n",
              "    <tr style=\"text-align: right;\">\n",
              "      <th></th>\n",
              "      <th>Unnamed: 0</th>\n",
              "      <th>Job Title</th>\n",
              "      <th>Salary Estimate</th>\n",
              "      <th>Job Description</th>\n",
              "      <th>Rating</th>\n",
              "      <th>Company Name</th>\n",
              "      <th>Location</th>\n",
              "      <th>Headquarters</th>\n",
              "      <th>Size</th>\n",
              "      <th>Founded</th>\n",
              "      <th>Type of ownership</th>\n",
              "      <th>Industry</th>\n",
              "      <th>Sector</th>\n",
              "      <th>Revenue</th>\n",
              "      <th>Competitors</th>\n",
              "      <th>Easy Apply</th>\n",
              "    </tr>\n",
              "  </thead>\n",
              "  <tbody>\n",
              "    <tr>\n",
              "      <th>0</th>\n",
              "      <td>0</td>\n",
              "      <td>Data Analyst, Center on Immigration and Justic...</td>\n",
              "      <td>$37K-$66K (Glassdoor est.)</td>\n",
              "      <td>Are you eager to roll up your sleeves and harn...</td>\n",
              "      <td>3.2</td>\n",
              "      <td>Vera Institute of Justice\\n3.2</td>\n",
              "      <td>New York, NY</td>\n",
              "      <td>New York, NY</td>\n",
              "      <td>201 to 500 employees</td>\n",
              "      <td>1961</td>\n",
              "      <td>Nonprofit Organization</td>\n",
              "      <td>Social Assistance</td>\n",
              "      <td>Non-Profit</td>\n",
              "      <td>$100 to $500 million (USD)</td>\n",
              "      <td>-1</td>\n",
              "      <td>True</td>\n",
              "    </tr>\n",
              "    <tr>\n",
              "      <th>1</th>\n",
              "      <td>1</td>\n",
              "      <td>Quality Data Analyst</td>\n",
              "      <td>$37K-$66K (Glassdoor est.)</td>\n",
              "      <td>Overview\\n\\nProvides analytical and technical ...</td>\n",
              "      <td>3.8</td>\n",
              "      <td>Visiting Nurse Service of New York\\n3.8</td>\n",
              "      <td>New York, NY</td>\n",
              "      <td>New York, NY</td>\n",
              "      <td>10000+ employees</td>\n",
              "      <td>1893</td>\n",
              "      <td>Nonprofit Organization</td>\n",
              "      <td>Health Care Services &amp; Hospitals</td>\n",
              "      <td>Health Care</td>\n",
              "      <td>$2 to $5 billion (USD)</td>\n",
              "      <td>-1</td>\n",
              "      <td>-1</td>\n",
              "    </tr>\n",
              "  </tbody>\n",
              "</table>\n",
              "</div>"
            ],
            "text/plain": [
              "   Unnamed: 0  ... Easy Apply\n",
              "0           0  ...       True\n",
              "1           1  ...         -1\n",
              "\n",
              "[2 rows x 16 columns]"
            ]
          },
          "metadata": {
            "tags": []
          },
          "execution_count": 7
        }
      ]
    },
    {
      "cell_type": "code",
      "metadata": {
        "id": "_3Y5BELyLa_F",
        "colab_type": "code",
        "colab": {
          "base_uri": "https://localhost:8080/",
          "height": 426
        },
        "outputId": "1b0d9f9f-c8f4-42b0-81c2-a03621ceabdb"
      },
      "source": [
        "df.info()"
      ],
      "execution_count": 8,
      "outputs": [
        {
          "output_type": "stream",
          "text": [
            "<class 'pandas.core.frame.DataFrame'>\n",
            "RangeIndex: 2253 entries, 0 to 2252\n",
            "Data columns (total 16 columns):\n",
            " #   Column             Non-Null Count  Dtype  \n",
            "---  ------             --------------  -----  \n",
            " 0   Unnamed: 0         2253 non-null   int64  \n",
            " 1   Job Title          2253 non-null   object \n",
            " 2   Salary Estimate    2253 non-null   object \n",
            " 3   Job Description    2253 non-null   object \n",
            " 4   Rating             2253 non-null   float64\n",
            " 5   Company Name       2252 non-null   object \n",
            " 6   Location           2253 non-null   object \n",
            " 7   Headquarters       2253 non-null   object \n",
            " 8   Size               2253 non-null   object \n",
            " 9   Founded            2253 non-null   int64  \n",
            " 10  Type of ownership  2253 non-null   object \n",
            " 11  Industry           2253 non-null   object \n",
            " 12  Sector             2253 non-null   object \n",
            " 13  Revenue            2253 non-null   object \n",
            " 14  Competitors        2253 non-null   object \n",
            " 15  Easy Apply         2253 non-null   object \n",
            "dtypes: float64(1), int64(2), object(13)\n",
            "memory usage: 281.8+ KB\n"
          ],
          "name": "stdout"
        }
      ]
    },
    {
      "cell_type": "code",
      "metadata": {
        "id": "QpbABfWAMLZx",
        "colab_type": "code",
        "colab": {}
      },
      "source": [
        "# Drop unnamed Column\n",
        "df = df.drop(['Unnamed: 0'], axis=1)"
      ],
      "execution_count": 9,
      "outputs": []
    },
    {
      "cell_type": "code",
      "metadata": {
        "id": "cwB9qkKMqpJo",
        "colab_type": "code",
        "colab": {
          "base_uri": "https://localhost:8080/",
          "height": 124
        },
        "outputId": "21c43903-ab0c-4ce5-f45a-ad8092e34051"
      },
      "source": [
        "df=df.replace(-1,np.nan)\n",
        "df=df.replace(-1.0,np.nan)\n",
        "df=df.replace('-1',np.nan)\n",
        "\n",
        "df['Company Name'],_=df['Company Name'].str.split('\\n', 1).str\n",
        "df['Job Title'],df['Department']=df['Job Title'].str.split(',', 1).str\n",
        "df['Salary Estimate'],_=df['Salary Estimate'].str.split('(', 1).str"
      ],
      "execution_count": 10,
      "outputs": [
        {
          "output_type": "stream",
          "text": [
            "/usr/local/lib/python3.6/dist-packages/ipykernel_launcher.py:5: FutureWarning: Columnar iteration over characters will be deprecated in future releases.\n",
            "  \"\"\"\n",
            "/usr/local/lib/python3.6/dist-packages/ipykernel_launcher.py:6: FutureWarning: Columnar iteration over characters will be deprecated in future releases.\n",
            "  \n",
            "/usr/local/lib/python3.6/dist-packages/ipykernel_launcher.py:7: FutureWarning: Columnar iteration over characters will be deprecated in future releases.\n",
            "  import sys\n"
          ],
          "name": "stderr"
        }
      ]
    },
    {
      "cell_type": "code",
      "metadata": {
        "id": "tSPLSjhvvLSi",
        "colab_type": "code",
        "colab": {
          "base_uri": "https://localhost:8080/",
          "height": 52
        },
        "outputId": "7e7846df-5c49-45a4-baf1-2aeabbfc1371"
      },
      "source": [
        "\n",
        "df['salary_Min'], df['salary_Max']= df['Salary Estimate'].str.split('-').str\n",
        "df['salary_Min']= pd.to_numeric(df['salary_Min'].str.strip(' ').str.lstrip('$').str.rstrip('K').fillna(0));\n",
        "df['salary_Max']= pd.to_numeric(df['salary_Max'].str.strip(' ').str.lstrip('$').str.rstrip('K').fillna(0));"
      ],
      "execution_count": 11,
      "outputs": [
        {
          "output_type": "stream",
          "text": [
            "/usr/local/lib/python3.6/dist-packages/ipykernel_launcher.py:2: FutureWarning: Columnar iteration over characters will be deprecated in future releases.\n",
            "  \n"
          ],
          "name": "stderr"
        }
      ]
    },
    {
      "cell_type": "code",
      "metadata": {
        "id": "_XX4yxmMxFWl",
        "colab_type": "code",
        "colab": {
          "base_uri": "https://localhost:8080/",
          "height": 428
        },
        "outputId": "3479ae46-9222-40da-92ca-273a9cab24b4"
      },
      "source": [
        "df.head(4)"
      ],
      "execution_count": 12,
      "outputs": [
        {
          "output_type": "execute_result",
          "data": {
            "text/html": [
              "<div>\n",
              "<style scoped>\n",
              "    .dataframe tbody tr th:only-of-type {\n",
              "        vertical-align: middle;\n",
              "    }\n",
              "\n",
              "    .dataframe tbody tr th {\n",
              "        vertical-align: top;\n",
              "    }\n",
              "\n",
              "    .dataframe thead th {\n",
              "        text-align: right;\n",
              "    }\n",
              "</style>\n",
              "<table border=\"1\" class=\"dataframe\">\n",
              "  <thead>\n",
              "    <tr style=\"text-align: right;\">\n",
              "      <th></th>\n",
              "      <th>Job Title</th>\n",
              "      <th>Salary Estimate</th>\n",
              "      <th>Job Description</th>\n",
              "      <th>Rating</th>\n",
              "      <th>Company Name</th>\n",
              "      <th>Location</th>\n",
              "      <th>Headquarters</th>\n",
              "      <th>Size</th>\n",
              "      <th>Founded</th>\n",
              "      <th>Type of ownership</th>\n",
              "      <th>Industry</th>\n",
              "      <th>Sector</th>\n",
              "      <th>Revenue</th>\n",
              "      <th>Competitors</th>\n",
              "      <th>Easy Apply</th>\n",
              "      <th>Department</th>\n",
              "      <th>salary_Min</th>\n",
              "      <th>salary_Max</th>\n",
              "    </tr>\n",
              "  </thead>\n",
              "  <tbody>\n",
              "    <tr>\n",
              "      <th>0</th>\n",
              "      <td>Data Analyst</td>\n",
              "      <td>$37K-$66K</td>\n",
              "      <td>Are you eager to roll up your sleeves and harn...</td>\n",
              "      <td>3.2</td>\n",
              "      <td>Vera Institute of Justice</td>\n",
              "      <td>New York, NY</td>\n",
              "      <td>New York, NY</td>\n",
              "      <td>201 to 500 employees</td>\n",
              "      <td>1961.0</td>\n",
              "      <td>Nonprofit Organization</td>\n",
              "      <td>Social Assistance</td>\n",
              "      <td>Non-Profit</td>\n",
              "      <td>$100 to $500 million (USD)</td>\n",
              "      <td>NaN</td>\n",
              "      <td>True</td>\n",
              "      <td>Center on Immigration and Justice (CIJ)</td>\n",
              "      <td>37</td>\n",
              "      <td>66</td>\n",
              "    </tr>\n",
              "    <tr>\n",
              "      <th>1</th>\n",
              "      <td>Quality Data Analyst</td>\n",
              "      <td>$37K-$66K</td>\n",
              "      <td>Overview\\n\\nProvides analytical and technical ...</td>\n",
              "      <td>3.8</td>\n",
              "      <td>Visiting Nurse Service of New York</td>\n",
              "      <td>New York, NY</td>\n",
              "      <td>New York, NY</td>\n",
              "      <td>10000+ employees</td>\n",
              "      <td>1893.0</td>\n",
              "      <td>Nonprofit Organization</td>\n",
              "      <td>Health Care Services &amp; Hospitals</td>\n",
              "      <td>Health Care</td>\n",
              "      <td>$2 to $5 billion (USD)</td>\n",
              "      <td>NaN</td>\n",
              "      <td>NaN</td>\n",
              "      <td>NaN</td>\n",
              "      <td>37</td>\n",
              "      <td>66</td>\n",
              "    </tr>\n",
              "    <tr>\n",
              "      <th>2</th>\n",
              "      <td>Senior Data Analyst</td>\n",
              "      <td>$37K-$66K</td>\n",
              "      <td>We’re looking for a Senior Data Analyst who ha...</td>\n",
              "      <td>3.4</td>\n",
              "      <td>Squarespace</td>\n",
              "      <td>New York, NY</td>\n",
              "      <td>New York, NY</td>\n",
              "      <td>1001 to 5000 employees</td>\n",
              "      <td>2003.0</td>\n",
              "      <td>Company - Private</td>\n",
              "      <td>Internet</td>\n",
              "      <td>Information Technology</td>\n",
              "      <td>Unknown / Non-Applicable</td>\n",
              "      <td>GoDaddy</td>\n",
              "      <td>NaN</td>\n",
              "      <td>Insights &amp; Analytics Team [Customer Operations]</td>\n",
              "      <td>37</td>\n",
              "      <td>66</td>\n",
              "    </tr>\n",
              "    <tr>\n",
              "      <th>3</th>\n",
              "      <td>Data Analyst</td>\n",
              "      <td>$37K-$66K</td>\n",
              "      <td>Requisition NumberRR-0001939\\nRemote:Yes\\nWe c...</td>\n",
              "      <td>4.1</td>\n",
              "      <td>Celerity</td>\n",
              "      <td>New York, NY</td>\n",
              "      <td>McLean, VA</td>\n",
              "      <td>201 to 500 employees</td>\n",
              "      <td>2002.0</td>\n",
              "      <td>Subsidiary or Business Segment</td>\n",
              "      <td>IT Services</td>\n",
              "      <td>Information Technology</td>\n",
              "      <td>$50 to $100 million (USD)</td>\n",
              "      <td>NaN</td>\n",
              "      <td>NaN</td>\n",
              "      <td>NaN</td>\n",
              "      <td>37</td>\n",
              "      <td>66</td>\n",
              "    </tr>\n",
              "  </tbody>\n",
              "</table>\n",
              "</div>"
            ],
            "text/plain": [
              "              Job Title Salary Estimate  ... salary_Min  salary_Max\n",
              "0          Data Analyst      $37K-$66K   ...         37          66\n",
              "1  Quality Data Analyst      $37K-$66K   ...         37          66\n",
              "2   Senior Data Analyst      $37K-$66K   ...         37          66\n",
              "3          Data Analyst      $37K-$66K   ...         37          66\n",
              "\n",
              "[4 rows x 18 columns]"
            ]
          },
          "metadata": {
            "tags": []
          },
          "execution_count": 12
        }
      ]
    },
    {
      "cell_type": "code",
      "metadata": {
        "id": "eZj7tsMnxGey",
        "colab_type": "code",
        "colab": {}
      },
      "source": [
        "df.drop(['Salary Estimate'], axis=1, inplace=True)"
      ],
      "execution_count": 13,
      "outputs": []
    },
    {
      "cell_type": "code",
      "metadata": {
        "id": "Qme6fRrXs7Bm",
        "colab_type": "code",
        "colab": {}
      },
      "source": [
        "df['Easy Apply'] = df['Easy Apply'].fillna(False).astype('bool')"
      ],
      "execution_count": 14,
      "outputs": []
    },
    {
      "cell_type": "code",
      "metadata": {
        "id": "H6dSiErhF66d",
        "colab_type": "code",
        "colab": {
          "base_uri": "https://localhost:8080/",
          "height": 35
        },
        "outputId": "9b64c47f-3216-4eca-d4f2-2ad5dec8c1cc"
      },
      "source": [
        "df['Easy Apply'].unique()"
      ],
      "execution_count": 15,
      "outputs": [
        {
          "output_type": "execute_result",
          "data": {
            "text/plain": [
              "array([ True, False])"
            ]
          },
          "metadata": {
            "tags": []
          },
          "execution_count": 15
        }
      ]
    },
    {
      "cell_type": "code",
      "metadata": {
        "id": "IWEPMnJFIAGu",
        "colab_type": "code",
        "colab": {}
      },
      "source": [
        "df_easy_apply=df[df['Easy Apply']==True]\n",
        "df=df_easy_apply.groupby('Company Name')['Easy Apply'].count().reset_index()\n",
        "company_opening_df=df.sort_values('Easy Apply',ascending=False).head(10)"
      ],
      "execution_count": 16,
      "outputs": []
    },
    {
      "cell_type": "code",
      "metadata": {
        "id": "DG5t8kQ3Io2n",
        "colab_type": "code",
        "colab": {
          "base_uri": "https://localhost:8080/",
          "height": 514
        },
        "outputId": "21c4e6c0-291e-42a9-a5e3-31d910fef537"
      },
      "source": [
        "plt.figure(figsize=(10,6));\n",
        "fig = sns.barplot(data=company_opening_df, x='Company Name', y='Easy Apply', palette='Set1');\n",
        "fig.set_xticklabels(fig.get_xticklabels(),rotation=90, fontweight='light');"
      ],
      "execution_count": 17,
      "outputs": [
        {
          "output_type": "display_data",
          "data": {
            "image/png": "[encoded data removed]",
            "text/plain": [
              "<Figure size 720x432 with 1 Axes>"
            ]
          },
          "metadata": {
            "tags": [],
            "needs_background": "light"
          }
        }
      ]
    },
    {
      "cell_type": "code",
      "metadata": {
        "id": "RiCxaTMhIrci",
        "colab_type": "code",
        "colab": {}
      },
      "source": [
        "\n"
      ],
      "execution_count": 17,
      "outputs": []
    },
    {
      "cell_type": "code",
      "metadata": {
        "id": "Dps8pW5hQWXC",
        "colab_type": "code",
        "colab": {}
      },
      "source": [
        ""
      ],
      "execution_count": 17,
      "outputs": []
    }
  ]
}